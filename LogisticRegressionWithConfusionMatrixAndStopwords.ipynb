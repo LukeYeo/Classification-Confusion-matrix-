{
 "cells": [
  {
   "cell_type": "markdown",
   "id": "741fb176",
   "metadata": {},
   "source": [
    "Name: Yeo Chee En Luke </br>\n",
    "Student Number:  46746267, S4674626 </br>\n",
    "DATA2001 Assignment 2 :Insight </br> "
   ]
  },
  {
   "cell_type": "markdown",
   "id": "71925459",
   "metadata": {},
   "source": [
    "# 1. Data Preparation"
   ]
  },
  {
   "cell_type": "code",
   "execution_count": 1,
   "id": "5c88447b",
   "metadata": {},
   "outputs": [],
   "source": [
    "import pandas as pd\n",
    "import numpy as np\n",
    "from sklearn.metrics import classification_report"
   ]
  },
  {
   "cell_type": "code",
   "execution_count": 2,
   "id": "767a5360",
   "metadata": {},
   "outputs": [
    {
     "data": {
      "text/html": [
       "<div>\n",
       "<style scoped>\n",
       "    .dataframe tbody tr th:only-of-type {\n",
       "        vertical-align: middle;\n",
       "    }\n",
       "\n",
       "    .dataframe tbody tr th {\n",
       "        vertical-align: top;\n",
       "    }\n",
       "\n",
       "    .dataframe thead th {\n",
       "        text-align: right;\n",
       "    }\n",
       "</style>\n",
       "<table border=\"1\" class=\"dataframe\">\n",
       "  <thead>\n",
       "    <tr style=\"text-align: right;\">\n",
       "      <th></th>\n",
       "      <th>Id</th>\n",
       "      <th>ProductId</th>\n",
       "      <th>UserId</th>\n",
       "      <th>ProfileName</th>\n",
       "      <th>HelpfulnessNumerator</th>\n",
       "      <th>HelpfulnessDenominator</th>\n",
       "      <th>Score</th>\n",
       "      <th>Time</th>\n",
       "      <th>Summary</th>\n",
       "      <th>Text</th>\n",
       "    </tr>\n",
       "  </thead>\n",
       "  <tbody>\n",
       "    <tr>\n",
       "      <th>0</th>\n",
       "      <td>2</td>\n",
       "      <td>B00813GRG4</td>\n",
       "      <td>A1D87F6ZCVE5NK</td>\n",
       "      <td>dll pa</td>\n",
       "      <td>0</td>\n",
       "      <td>0</td>\n",
       "      <td>1</td>\n",
       "      <td>1346976000</td>\n",
       "      <td>Not as Advertised</td>\n",
       "      <td>Product arrived labeled as Jumbo Salted Peanut...</td>\n",
       "    </tr>\n",
       "    <tr>\n",
       "      <th>1</th>\n",
       "      <td>5</td>\n",
       "      <td>B006K2ZZ7K</td>\n",
       "      <td>A1UQRSCLF8GW1T</td>\n",
       "      <td>Michael D. Bigham \"M. Wassir\"</td>\n",
       "      <td>0</td>\n",
       "      <td>0</td>\n",
       "      <td>5</td>\n",
       "      <td>1350777600</td>\n",
       "      <td>Great taffy</td>\n",
       "      <td>Great taffy at a great price.  There was a wid...</td>\n",
       "    </tr>\n",
       "    <tr>\n",
       "      <th>2</th>\n",
       "      <td>10</td>\n",
       "      <td>B00171APVA</td>\n",
       "      <td>A21BT40VZCCYT4</td>\n",
       "      <td>Carol A. Reed</td>\n",
       "      <td>0</td>\n",
       "      <td>0</td>\n",
       "      <td>5</td>\n",
       "      <td>1351209600</td>\n",
       "      <td>Healthy Dog Food</td>\n",
       "      <td>This is a very healthy dog food. Good for thei...</td>\n",
       "    </tr>\n",
       "    <tr>\n",
       "      <th>3</th>\n",
       "      <td>17</td>\n",
       "      <td>B001GVISJM</td>\n",
       "      <td>A3KLWF6WQ5BNYO</td>\n",
       "      <td>Erica Neathery</td>\n",
       "      <td>0</td>\n",
       "      <td>0</td>\n",
       "      <td>2</td>\n",
       "      <td>1348099200</td>\n",
       "      <td>poor taste</td>\n",
       "      <td>I love eating them and they are good for watch...</td>\n",
       "    </tr>\n",
       "    <tr>\n",
       "      <th>4</th>\n",
       "      <td>39</td>\n",
       "      <td>B001EO5QW8</td>\n",
       "      <td>A2GHZ2UTV2B0CD</td>\n",
       "      <td>JERRY REITH</td>\n",
       "      <td>0</td>\n",
       "      <td>0</td>\n",
       "      <td>4</td>\n",
       "      <td>1350777600</td>\n",
       "      <td>GOOD WAY TO START THE DAY....</td>\n",
       "      <td>I WAS VISITING MY FRIEND NATE THE OTHER MORNIN...</td>\n",
       "    </tr>\n",
       "  </tbody>\n",
       "</table>\n",
       "</div>"
      ],
      "text/plain": [
       "   Id   ProductId          UserId                    ProfileName  \\\n",
       "0   2  B00813GRG4  A1D87F6ZCVE5NK                         dll pa   \n",
       "1   5  B006K2ZZ7K  A1UQRSCLF8GW1T  Michael D. Bigham \"M. Wassir\"   \n",
       "2  10  B00171APVA  A21BT40VZCCYT4                  Carol A. Reed   \n",
       "3  17  B001GVISJM  A3KLWF6WQ5BNYO                 Erica Neathery   \n",
       "4  39  B001EO5QW8  A2GHZ2UTV2B0CD                    JERRY REITH   \n",
       "\n",
       "   HelpfulnessNumerator  HelpfulnessDenominator  Score        Time  \\\n",
       "0                     0                       0      1  1346976000   \n",
       "1                     0                       0      5  1350777600   \n",
       "2                     0                       0      5  1351209600   \n",
       "3                     0                       0      2  1348099200   \n",
       "4                     0                       0      4  1350777600   \n",
       "\n",
       "                         Summary  \\\n",
       "0              Not as Advertised   \n",
       "1                    Great taffy   \n",
       "2               Healthy Dog Food   \n",
       "3                     poor taste   \n",
       "4  GOOD WAY TO START THE DAY....   \n",
       "\n",
       "                                                Text  \n",
       "0  Product arrived labeled as Jumbo Salted Peanut...  \n",
       "1  Great taffy at a great price.  There was a wid...  \n",
       "2  This is a very healthy dog food. Good for thei...  \n",
       "3  I love eating them and they are good for watch...  \n",
       "4  I WAS VISITING MY FRIEND NATE THE OTHER MORNIN...  "
      ]
     },
     "execution_count": 2,
     "metadata": {},
     "output_type": "execute_result"
    }
   ],
   "source": [
    "#Read the dataset provided\n",
    "data = pd.read_csv(filepath_or_buffer =\"dataset.csv\")\n",
    "data.head()"
   ]
  },
  {
   "cell_type": "markdown",
   "id": "d7021639",
   "metadata": {},
   "source": [
    "**Column Descriptions** </br>\n",
    "**Id** – review id </br>\n",
    "**ProductId** – id of the product </br>\n",
    "**UserId** – id of the user </br>\n",
    "**ProfileName** – name of the user </br>\n",
    "**HelpfulnessNumerator** – fraction of users who found the review helpful (numerator part) </br>\n",
    "**HelpfulnessDenominator** – fraction of users who found the review helpful (denominator part) </br>\n",
    "**Score** – rating of the product </br>\n",
    "**Time** – time of the review (in unix time) </br>\n",
    "**Summary** – review summary </br>\n",
    "**Text** – text of the revie"
   ]
  },
  {
   "cell_type": "code",
   "execution_count": 3,
   "id": "847f59cf",
   "metadata": {},
   "outputs": [
    {
     "data": {
      "text/plain": [
       "(30365, 10)"
      ]
     },
     "execution_count": 3,
     "metadata": {},
     "output_type": "execute_result"
    }
   ],
   "source": [
    "#getting the number of row and columns\n",
    "data.shape"
   ]
  },
  {
   "cell_type": "code",
   "execution_count": 4,
   "id": "6311ec89",
   "metadata": {},
   "outputs": [
    {
     "name": "stdout",
     "output_type": "stream",
     "text": [
      "<class 'pandas.core.frame.DataFrame'>\n",
      "RangeIndex: 30365 entries, 0 to 30364\n",
      "Data columns (total 10 columns):\n",
      " #   Column                  Non-Null Count  Dtype \n",
      "---  ------                  --------------  ----- \n",
      " 0   Id                      30365 non-null  int64 \n",
      " 1   ProductId               30365 non-null  object\n",
      " 2   UserId                  30365 non-null  object\n",
      " 3   ProfileName             30363 non-null  object\n",
      " 4   HelpfulnessNumerator    30365 non-null  int64 \n",
      " 5   HelpfulnessDenominator  30365 non-null  int64 \n",
      " 6   Score                   30365 non-null  int64 \n",
      " 7   Time                    30365 non-null  int64 \n",
      " 8   Summary                 30365 non-null  object\n",
      " 9   Text                    30365 non-null  object\n",
      "dtypes: int64(5), object(5)\n",
      "memory usage: 2.3+ MB\n"
     ]
    }
   ],
   "source": [
    "#Overview of info in the dataset\n",
    "data.info()"
   ]
  },
  {
   "cell_type": "code",
   "execution_count": 5,
   "id": "81ba0a44",
   "metadata": {},
   "outputs": [
    {
     "data": {
      "text/html": [
       "<div>\n",
       "<style scoped>\n",
       "    .dataframe tbody tr th:only-of-type {\n",
       "        vertical-align: middle;\n",
       "    }\n",
       "\n",
       "    .dataframe tbody tr th {\n",
       "        vertical-align: top;\n",
       "    }\n",
       "\n",
       "    .dataframe thead th {\n",
       "        text-align: right;\n",
       "    }\n",
       "</style>\n",
       "<table border=\"1\" class=\"dataframe\">\n",
       "  <thead>\n",
       "    <tr style=\"text-align: right;\">\n",
       "      <th></th>\n",
       "      <th>Id</th>\n",
       "      <th>Score</th>\n",
       "      <th>Text</th>\n",
       "    </tr>\n",
       "  </thead>\n",
       "  <tbody>\n",
       "    <tr>\n",
       "      <th>0</th>\n",
       "      <td>2</td>\n",
       "      <td>1</td>\n",
       "      <td>Product arrived labeled as Jumbo Salted Peanut...</td>\n",
       "    </tr>\n",
       "    <tr>\n",
       "      <th>1</th>\n",
       "      <td>5</td>\n",
       "      <td>5</td>\n",
       "      <td>Great taffy at a great price.  There was a wid...</td>\n",
       "    </tr>\n",
       "    <tr>\n",
       "      <th>2</th>\n",
       "      <td>10</td>\n",
       "      <td>5</td>\n",
       "      <td>This is a very healthy dog food. Good for thei...</td>\n",
       "    </tr>\n",
       "    <tr>\n",
       "      <th>3</th>\n",
       "      <td>17</td>\n",
       "      <td>2</td>\n",
       "      <td>I love eating them and they are good for watch...</td>\n",
       "    </tr>\n",
       "    <tr>\n",
       "      <th>4</th>\n",
       "      <td>39</td>\n",
       "      <td>4</td>\n",
       "      <td>I WAS VISITING MY FRIEND NATE THE OTHER MORNIN...</td>\n",
       "    </tr>\n",
       "  </tbody>\n",
       "</table>\n",
       "</div>"
      ],
      "text/plain": [
       "   Id  Score                                               Text\n",
       "0   2      1  Product arrived labeled as Jumbo Salted Peanut...\n",
       "1   5      5  Great taffy at a great price.  There was a wid...\n",
       "2  10      5  This is a very healthy dog food. Good for thei...\n",
       "3  17      2  I love eating them and they are good for watch...\n",
       "4  39      4  I WAS VISITING MY FRIEND NATE THE OTHER MORNIN..."
      ]
     },
     "execution_count": 5,
     "metadata": {},
     "output_type": "execute_result"
    }
   ],
   "source": [
    "#making data into only 3 columns : Id, Score, Text\n",
    "data = data[['Id', 'Score', 'Text']]\n",
    "data.head()"
   ]
  },
  {
   "cell_type": "code",
   "execution_count": 6,
   "id": "76746399",
   "metadata": {},
   "outputs": [
    {
     "data": {
      "text/plain": [
       "5    19354\n",
       "4     3874\n",
       "1     3162\n",
       "3     2311\n",
       "2     1664\n",
       "Name: Label, dtype: int64"
      ]
     },
     "execution_count": 6,
     "metadata": {},
     "output_type": "execute_result"
    }
   ],
   "source": [
    "#Create the column label\n",
    "data['Label']=  data['Score']\n",
    "\n",
    "#Check the num of values in label\n",
    "data['Label'].value_counts()"
   ]
  },
  {
   "cell_type": "code",
   "execution_count": 7,
   "id": "f97dac89",
   "metadata": {},
   "outputs": [
    {
     "data": {
      "text/plain": [
       "array([1, 5, 2, 4, 3], dtype=int64)"
      ]
     },
     "execution_count": 7,
     "metadata": {},
     "output_type": "execute_result"
    }
   ],
   "source": [
    "data['Label'].unique()"
   ]
  },
  {
   "cell_type": "code",
   "execution_count": 8,
   "id": "3fbbfc60",
   "metadata": {},
   "outputs": [
    {
     "data": {
      "text/plain": [
       "array([1, 5, 2, 4], dtype=int64)"
      ]
     },
     "execution_count": 8,
     "metadata": {},
     "output_type": "execute_result"
    }
   ],
   "source": [
    "#remove the dataset that has score value of 3\n",
    "data.drop(data[data['Label'] == 3].index,inplace=True)\n",
    "data['Label'].unique()"
   ]
  },
  {
   "cell_type": "code",
   "execution_count": 9,
   "id": "c6d78059",
   "metadata": {},
   "outputs": [],
   "source": [
    "#Make the dataset into strings than integers\n",
    "data['Label'] = data['Label'].apply(str)"
   ]
  },
  {
   "cell_type": "code",
   "execution_count": 10,
   "id": "0e1f0858",
   "metadata": {},
   "outputs": [
    {
     "data": {
      "text/plain": [
       "array(['neg', 'pos'], dtype=object)"
      ]
     },
     "execution_count": 10,
     "metadata": {},
     "output_type": "execute_result"
    }
   ],
   "source": [
    "#replace scores with positive: \"pos\" or negative : \"neg\"\n",
    "score_replacement = {'1':\"neg\", \n",
    "                     '2':\"neg\", \n",
    "                     '4':\"pos\",\n",
    "                     '5':\"pos\"}\n",
    "\n",
    "# perform replacement\n",
    "data['Label'] = data['Label'].replace(score_replacement)\n",
    "\n",
    "# verify that gender values are now consistent\n",
    "data['Label'].unique()\n"
   ]
  },
  {
   "cell_type": "code",
   "execution_count": 11,
   "id": "67f09b29",
   "metadata": {},
   "outputs": [
    {
     "data": {
      "text/plain": [
       "pos    23228\n",
       "neg     4826\n",
       "Name: Label, dtype: int64"
      ]
     },
     "execution_count": 11,
     "metadata": {},
     "output_type": "execute_result"
    }
   ],
   "source": [
    "data['Label'].value_counts()"
   ]
  },
  {
   "cell_type": "markdown",
   "id": "025836c2",
   "metadata": {},
   "source": [
    "# 2. Data Cleaning "
   ]
  },
  {
   "cell_type": "markdown",
   "id": "49b82b72",
   "metadata": {},
   "source": [
    "Exploring couple of text from the data"
   ]
  },
  {
   "cell_type": "code",
   "execution_count": 12,
   "id": "fc4c8895",
   "metadata": {},
   "outputs": [
    {
     "data": {
      "text/plain": [
       "'I drink this tea plain (without sugar or milk), and it has a pleasant aroma.<br /><br />The price from Amazon is cheaper than my local grocery store.  One reviewer is right, I think it has some herbal smell to make up the aroma.  So the label \"Imperial Blend\" kind of implied the herb.<br /><br />I am not exactly a black tea drinker, so this tea is a surprise, and affordable too.  I usually prefer White Chinese tea, like White Peony, but it is more expensive, and requires lower temperature water.  But this is black tea, and this aroma kind of remind me the \\'softness\\' of white tea.'"
      ]
     },
     "execution_count": 12,
     "metadata": {},
     "output_type": "execute_result"
    }
   ],
   "source": [
    "#Example of data that has <br />\n",
    "data.loc[21, \"Text\"]"
   ]
  },
  {
   "cell_type": "code",
   "execution_count": 13,
   "id": "38420de3",
   "metadata": {},
   "outputs": [
    {
     "data": {
      "text/plain": [
       "'<a href=\"http://www.amazon.com/gp/product/B00769ZSVO\">180 Snacks Almond Pops With Cranberries 17 oz Value Bag</a><br /><br />I have Celiac Disease, and while shopping I picked up a bag of these snacks because they are gluten free. So YUMMY, I had to have more and found them on Amazon and ordered 3 bags.I will be saving them for our trip south for the winter. They are absolutely the best!!'"
      ]
     },
     "execution_count": 13,
     "metadata": {},
     "output_type": "execute_result"
    }
   ],
   "source": [
    "#Example of data that has a website link , hyperlink\n",
    "data.loc[520, \"Text\"]"
   ]
  },
  {
   "cell_type": "code",
   "execution_count": 14,
   "id": "02610f7f",
   "metadata": {},
   "outputs": [
    {
     "data": {
      "text/plain": [
       "'I WAS VISITING MY FRIEND NATE THE OTHER MORNING FOR COFFEE , HE CAME OUT OF HIS STORAGE ROOM WITH ( A PACKET OF McCANNS INSTANT IRISH OATMEAL .) HE SUGGESTED THAT I TRY IT FOR MY OWN USE ,IN MY STASH . SOMETIMES NATE DOSE NOT GIVE YOU A CHANCE TO SAY NO , SO I ENDED UP TRYING THE APPLE AND CINN . FOUND IT TO BE VERY TASTEFULL WHEN MADE WITH WATER OR POWDERED MILK . IT GOES GOOD WITH O.J. AND COFFEE AND A SLICE OF TOAST AND YOUR READY TO TAKE ON THE WORLD...OR THE DAY AT LEAST..  JERRY REITH...'"
      ]
     },
     "execution_count": 14,
     "metadata": {},
     "output_type": "execute_result"
    }
   ],
   "source": [
    "#Example of data that is in cap\n",
    "data.loc[4, \"Text\"]"
   ]
  },
  {
   "cell_type": "code",
   "execution_count": 15,
   "id": "02450df2",
   "metadata": {},
   "outputs": [
    {
     "data": {
      "text/plain": [
       "'service was great, but I meant to buy Swiss Chalet chicken SAUCE not the Marinade :)<br /><br />Love the sauce - have yet to try the marinade'"
      ]
     },
     "execution_count": 15,
     "metadata": {},
     "output_type": "execute_result"
    }
   ],
   "source": [
    "data.loc[31, \"Text\"]"
   ]
  },
  {
   "cell_type": "markdown",
   "id": "6fbd63c1",
   "metadata": {},
   "source": [
    "**Observation**\n",
    "\n",
    "It can be observed that a tweet can contain hyperlinks, hashtags, @mentions and also some weired characters. However, they are not useful as we are only interested in the text hence removing them."
   ]
  },
  {
   "cell_type": "code",
   "execution_count": 16,
   "id": "3936ecc2",
   "metadata": {},
   "outputs": [],
   "source": [
    "import re\n",
    "\n",
    "# define a function to clean a tweet\n",
    "def clean_data(text):\n",
    "    \n",
    "    # remove hyper-links\n",
    "    text = re.sub(r\"https:[\\S]+\", \" \", text)\n",
    "    \n",
    "    # remove website-links:\n",
    "    text = re.sub(r\"<a [\\S]+>\", \" \", text)\n",
    "    # remove new line characters (\\n)\n",
    "    text = re.sub(r\"\\\\n\",\" \", text)\n",
    "    \n",
    "    # remove any weired characters\n",
    "    text = re.sub(r\"[^A-Za-z*'-]+\", \" \", text)\n",
    "    \n",
    "    # remove hash-tags\n",
    "    # write appropriate regular expression\n",
    "    text = re.sub(r\"#[\\S]+\", \" \", text)\n",
    "    \n",
    "    # remove @-mentions\n",
    "    # write appropriate regular expression\n",
    "    text = re.sub(r\"@[\\S]+\", \" \", text)\n",
    "    \n",
    "    # remove </br>-mentions\n",
    "    # write appropriate regular expression\n",
    "    text = re.sub(r\"br\", \" \",text)\n",
    "    text = re.sub(r\"</a>\", \" \",text)\n",
    "    # convert tweet text to lowercase\n",
    "    text = text.lower().strip()\n",
    "    \n",
    "    return text"
   ]
  },
  {
   "cell_type": "code",
   "execution_count": 17,
   "id": "50292782",
   "metadata": {},
   "outputs": [],
   "source": [
    "#apply the cleaning to the dataset\n",
    "data[\"Text\"] = data[\"Text\"].apply(clean_data)"
   ]
  },
  {
   "cell_type": "code",
   "execution_count": 18,
   "id": "32e33c84",
   "metadata": {},
   "outputs": [
    {
     "data": {
      "text/plain": [
       "\"i drink this tea plain without sugar or milk and it has a pleasant aroma     the price from amazon is cheaper than my local grocery store one reviewer is right i think it has some herbal smell to make up the aroma so the label imperial blend kind of implied the herb     i am not exactly a black tea drinker so this tea is a surprise and affordable too i usually prefer white chinese tea like white peony but it is more expensive and requires lower temperature water but this is black tea and this aroma kind of remind me the 'softness' of white tea\""
      ]
     },
     "execution_count": 18,
     "metadata": {},
     "output_type": "execute_result"
    }
   ],
   "source": [
    "data.loc[21, \"Text\"]"
   ]
  },
  {
   "cell_type": "code",
   "execution_count": 19,
   "id": "a295eb43",
   "metadata": {},
   "outputs": [
    {
     "data": {
      "text/plain": [
       "'snacks almond pops with cranberries oz value bag a     i have celiac disease and while shopping i picked up a bag of these snacks because they are gluten free so yummy i had to have more and found them on amazon and ordered bags i will be saving them for our trip south for the winter they are absolutely the best'"
      ]
     },
     "execution_count": 19,
     "metadata": {},
     "output_type": "execute_result"
    }
   ],
   "source": [
    "data.loc[520, \"Text\"]"
   ]
  },
  {
   "cell_type": "code",
   "execution_count": 20,
   "id": "85e58ac2",
   "metadata": {},
   "outputs": [
    {
     "data": {
      "text/plain": [
       "'i was visiting my friend nate the other morning for coffee he came out of his storage room with a packet of mccanns instant irish oatmeal he suggested that i try it for my own use in my stash sometimes nate dose not give you a chance to say no so i ended up trying the apple and cinn found it to be very tastefull when made with water or powdered milk it goes good with o j and coffee and a slice of toast and your ready to take on the world or the day at least jerry reith'"
      ]
     },
     "execution_count": 20,
     "metadata": {},
     "output_type": "execute_result"
    }
   ],
   "source": [
    "data.loc[4, \"Text\"]"
   ]
  },
  {
   "cell_type": "code",
   "execution_count": 21,
   "id": "fb6d9acf",
   "metadata": {},
   "outputs": [
    {
     "data": {
      "text/plain": [
       "'service was great but i meant to buy swiss chalet chicken sauce not the marinade     love the sauce - have yet to try the marinade'"
      ]
     },
     "execution_count": 21,
     "metadata": {},
     "output_type": "execute_result"
    }
   ],
   "source": [
    "data.loc[31, \"Text\"]"
   ]
  },
  {
   "cell_type": "markdown",
   "id": "cd17e607",
   "metadata": {},
   "source": [
    "# 3. Linear Regression (text classifier)"
   ]
  },
  {
   "cell_type": "markdown",
   "id": "c12925e3",
   "metadata": {},
   "source": [
    "## 3.1 Data Analysis \n",
    "\n",
    "In this step, i will fit a logistic regression model to predict whether a tweet has positive or negative sentiment. But before that, i am spliting the data into train and test set. Train set data will be used to develop a text classification model and test set data will be used to evaluate the model."
   ]
  },
  {
   "cell_type": "code",
   "execution_count": 22,
   "id": "694770d4",
   "metadata": {},
   "outputs": [],
   "source": [
    "import numpy as np\n",
    "from sklearn.model_selection import train_test_split\n",
    "\n",
    "# define random state to make random processes reproducible\n",
    "random_state = np.random.RandomState(0)"
   ]
  },
  {
   "cell_type": "code",
   "execution_count": 23,
   "id": "1d44a776",
   "metadata": {},
   "outputs": [],
   "source": [
    "#Set what is X and what is Y \n",
    "X = data[\"Text\"]\n",
    "y = data[\"Label\"]\n",
    "\n",
    "# split the data into train-test split where 30% of data will be used as test set\n",
    "X_train, X_test, y_train, y_test = train_test_split(X, y, test_size=0.3, shuffle=True, random_state=random_state)"
   ]
  },
  {
   "cell_type": "code",
   "execution_count": 24,
   "id": "7f82fad9",
   "metadata": {},
   "outputs": [
    {
     "name": "stdout",
     "output_type": "stream",
     "text": [
      "Requirement already satisfied: nltk in c:\\users\\luke yeo\\appdata\\local\\programs\\python\\python310\\lib\\site-packages (3.8)\n",
      "Requirement already satisfied: click in c:\\users\\luke yeo\\appdata\\local\\programs\\python\\python310\\lib\\site-packages (from nltk) (8.1.3)\n",
      "Requirement already satisfied: joblib in c:\\users\\luke yeo\\appdata\\local\\programs\\python\\python310\\lib\\site-packages (from nltk) (1.2.0)\n",
      "Requirement already satisfied: regex>=2021.8.3 in c:\\users\\luke yeo\\appdata\\local\\programs\\python\\python310\\lib\\site-packages (from nltk) (2022.10.31)\n",
      "Requirement already satisfied: tqdm in c:\\users\\luke yeo\\appdata\\local\\programs\\python\\python310\\lib\\site-packages (from nltk) (4.64.1)\n",
      "Requirement already satisfied: colorama in c:\\users\\luke yeo\\appdata\\local\\programs\\python\\python310\\lib\\site-packages (from click->nltk) (0.4.5)\n"
     ]
    },
    {
     "name": "stderr",
     "output_type": "stream",
     "text": [
      "[nltk_data] Downloading package stopwords to C:\\Users\\Luke\n",
      "[nltk_data]     Yeo\\AppData\\Roaming\\nltk_data...\n",
      "[nltk_data]   Package stopwords is already up-to-date!\n"
     ]
    }
   ],
   "source": [
    "from sklearn.feature_extraction.text import CountVectorizer\n",
    "!pip install nltk\n",
    "import nltk\n",
    "nltk.download('stopwords')\n",
    "from nltk.corpus import stopwords"
   ]
  },
  {
   "cell_type": "code",
   "execution_count": 25,
   "id": "b92d73af",
   "metadata": {},
   "outputs": [],
   "source": [
    "# define stop words\n",
    "stop_words = stopwords.words('english')"
   ]
  },
  {
   "cell_type": "code",
   "execution_count": 26,
   "id": "e0f134bc",
   "metadata": {},
   "outputs": [],
   "source": [
    "# define CountVectorizer object\n",
    "# min_df=0.01 means words that belong to only 1% of the all tweets will be excluded in the BOW\n",
    "vectorizer = CountVectorizer(stop_words=stopwords.words('english'), min_df=0.01)\n",
    "# vectorizer = CountVectorizer(stop_words=stopwords.words('english'))\n",
    "\n",
    "# fit the vectorizer object to train data\n",
    "vectorizer.fit(X_train)\n",
    "\n",
    "# get the BOW for train data\n",
    "X_train_BOW = vectorizer.transform(X_train)\n"
   ]
  },
  {
   "cell_type": "code",
   "execution_count": 27,
   "id": "c1b5ca18",
   "metadata": {},
   "outputs": [
    {
     "data": {
      "text/html": [
       "<div>\n",
       "<style scoped>\n",
       "    .dataframe tbody tr th:only-of-type {\n",
       "        vertical-align: middle;\n",
       "    }\n",
       "\n",
       "    .dataframe tbody tr th {\n",
       "        vertical-align: top;\n",
       "    }\n",
       "\n",
       "    .dataframe thead th {\n",
       "        text-align: right;\n",
       "    }\n",
       "</style>\n",
       "<table border=\"1\" class=\"dataframe\">\n",
       "  <thead>\n",
       "    <tr style=\"text-align: right;\">\n",
       "      <th></th>\n",
       "      <th>0</th>\n",
       "      <th>1</th>\n",
       "      <th>2</th>\n",
       "      <th>3</th>\n",
       "      <th>4</th>\n",
       "      <th>5</th>\n",
       "      <th>6</th>\n",
       "      <th>7</th>\n",
       "      <th>8</th>\n",
       "      <th>9</th>\n",
       "      <th>...</th>\n",
       "      <th>19627</th>\n",
       "      <th>19628</th>\n",
       "      <th>19629</th>\n",
       "      <th>19630</th>\n",
       "      <th>19631</th>\n",
       "      <th>19632</th>\n",
       "      <th>19633</th>\n",
       "      <th>19634</th>\n",
       "      <th>19635</th>\n",
       "      <th>19636</th>\n",
       "    </tr>\n",
       "  </thead>\n",
       "  <tbody>\n",
       "    <tr>\n",
       "      <th>able</th>\n",
       "      <td>0</td>\n",
       "      <td>0</td>\n",
       "      <td>0</td>\n",
       "      <td>0</td>\n",
       "      <td>0</td>\n",
       "      <td>0</td>\n",
       "      <td>0</td>\n",
       "      <td>0</td>\n",
       "      <td>0</td>\n",
       "      <td>0</td>\n",
       "      <td>...</td>\n",
       "      <td>0</td>\n",
       "      <td>0</td>\n",
       "      <td>0</td>\n",
       "      <td>1</td>\n",
       "      <td>0</td>\n",
       "      <td>1</td>\n",
       "      <td>0</td>\n",
       "      <td>0</td>\n",
       "      <td>0</td>\n",
       "      <td>0</td>\n",
       "    </tr>\n",
       "    <tr>\n",
       "      <th>absolutely</th>\n",
       "      <td>0</td>\n",
       "      <td>0</td>\n",
       "      <td>0</td>\n",
       "      <td>0</td>\n",
       "      <td>0</td>\n",
       "      <td>0</td>\n",
       "      <td>0</td>\n",
       "      <td>0</td>\n",
       "      <td>0</td>\n",
       "      <td>0</td>\n",
       "      <td>...</td>\n",
       "      <td>0</td>\n",
       "      <td>0</td>\n",
       "      <td>3</td>\n",
       "      <td>0</td>\n",
       "      <td>0</td>\n",
       "      <td>0</td>\n",
       "      <td>0</td>\n",
       "      <td>0</td>\n",
       "      <td>0</td>\n",
       "      <td>0</td>\n",
       "    </tr>\n",
       "    <tr>\n",
       "      <th>actually</th>\n",
       "      <td>0</td>\n",
       "      <td>0</td>\n",
       "      <td>0</td>\n",
       "      <td>0</td>\n",
       "      <td>0</td>\n",
       "      <td>0</td>\n",
       "      <td>0</td>\n",
       "      <td>1</td>\n",
       "      <td>0</td>\n",
       "      <td>0</td>\n",
       "      <td>...</td>\n",
       "      <td>0</td>\n",
       "      <td>0</td>\n",
       "      <td>0</td>\n",
       "      <td>0</td>\n",
       "      <td>0</td>\n",
       "      <td>1</td>\n",
       "      <td>0</td>\n",
       "      <td>0</td>\n",
       "      <td>0</td>\n",
       "      <td>0</td>\n",
       "    </tr>\n",
       "    <tr>\n",
       "      <th>add</th>\n",
       "      <td>0</td>\n",
       "      <td>0</td>\n",
       "      <td>0</td>\n",
       "      <td>0</td>\n",
       "      <td>0</td>\n",
       "      <td>0</td>\n",
       "      <td>0</td>\n",
       "      <td>0</td>\n",
       "      <td>0</td>\n",
       "      <td>1</td>\n",
       "      <td>...</td>\n",
       "      <td>0</td>\n",
       "      <td>0</td>\n",
       "      <td>0</td>\n",
       "      <td>0</td>\n",
       "      <td>0</td>\n",
       "      <td>0</td>\n",
       "      <td>0</td>\n",
       "      <td>1</td>\n",
       "      <td>0</td>\n",
       "      <td>0</td>\n",
       "    </tr>\n",
       "    <tr>\n",
       "      <th>added</th>\n",
       "      <td>0</td>\n",
       "      <td>0</td>\n",
       "      <td>0</td>\n",
       "      <td>0</td>\n",
       "      <td>0</td>\n",
       "      <td>0</td>\n",
       "      <td>0</td>\n",
       "      <td>0</td>\n",
       "      <td>0</td>\n",
       "      <td>0</td>\n",
       "      <td>...</td>\n",
       "      <td>0</td>\n",
       "      <td>0</td>\n",
       "      <td>0</td>\n",
       "      <td>0</td>\n",
       "      <td>0</td>\n",
       "      <td>0</td>\n",
       "      <td>0</td>\n",
       "      <td>0</td>\n",
       "      <td>0</td>\n",
       "      <td>0</td>\n",
       "    </tr>\n",
       "  </tbody>\n",
       "</table>\n",
       "<p>5 rows × 19637 columns</p>\n",
       "</div>"
      ],
      "text/plain": [
       "            0      1      2      3      4      5      6      7      8      \\\n",
       "able            0      0      0      0      0      0      0      0      0   \n",
       "absolutely      0      0      0      0      0      0      0      0      0   \n",
       "actually        0      0      0      0      0      0      0      1      0   \n",
       "add             0      0      0      0      0      0      0      0      0   \n",
       "added           0      0      0      0      0      0      0      0      0   \n",
       "\n",
       "            9      ...  19627  19628  19629  19630  19631  19632  19633  \\\n",
       "able            0  ...      0      0      0      1      0      1      0   \n",
       "absolutely      0  ...      0      0      3      0      0      0      0   \n",
       "actually        0  ...      0      0      0      0      0      1      0   \n",
       "add             1  ...      0      0      0      0      0      0      0   \n",
       "added           0  ...      0      0      0      0      0      0      0   \n",
       "\n",
       "            19634  19635  19636  \n",
       "able            0      0      0  \n",
       "absolutely      0      0      0  \n",
       "actually        0      0      0  \n",
       "add             1      0      0  \n",
       "added           0      0      0  \n",
       "\n",
       "[5 rows x 19637 columns]"
      ]
     },
     "execution_count": 27,
     "metadata": {},
     "output_type": "execute_result"
    }
   ],
   "source": [
    "# visualize BOW\n",
    "training_data_BOW = pd.DataFrame(data=X_train_BOW.toarray(), columns=vectorizer.get_feature_names_out()).T\n",
    "# display the first few rows of the dataframe\n",
    "training_data_BOW.head(5)"
   ]
  },
  {
   "cell_type": "markdown",
   "id": "bbf155b7",
   "metadata": {},
   "source": [
    "## 3.2 Baseline Model"
   ]
  },
  {
   "cell_type": "code",
   "execution_count": 28,
   "id": "068ff190",
   "metadata": {},
   "outputs": [
    {
     "data": {
      "text/html": [
       "<style>#sk-container-id-1 {color: black;background-color: white;}#sk-container-id-1 pre{padding: 0;}#sk-container-id-1 div.sk-toggleable {background-color: white;}#sk-container-id-1 label.sk-toggleable__label {cursor: pointer;display: block;width: 100%;margin-bottom: 0;padding: 0.3em;box-sizing: border-box;text-align: center;}#sk-container-id-1 label.sk-toggleable__label-arrow:before {content: \"▸\";float: left;margin-right: 0.25em;color: #696969;}#sk-container-id-1 label.sk-toggleable__label-arrow:hover:before {color: black;}#sk-container-id-1 div.sk-estimator:hover label.sk-toggleable__label-arrow:before {color: black;}#sk-container-id-1 div.sk-toggleable__content {max-height: 0;max-width: 0;overflow: hidden;text-align: left;background-color: #f0f8ff;}#sk-container-id-1 div.sk-toggleable__content pre {margin: 0.2em;color: black;border-radius: 0.25em;background-color: #f0f8ff;}#sk-container-id-1 input.sk-toggleable__control:checked~div.sk-toggleable__content {max-height: 200px;max-width: 100%;overflow: auto;}#sk-container-id-1 input.sk-toggleable__control:checked~label.sk-toggleable__label-arrow:before {content: \"▾\";}#sk-container-id-1 div.sk-estimator input.sk-toggleable__control:checked~label.sk-toggleable__label {background-color: #d4ebff;}#sk-container-id-1 div.sk-label input.sk-toggleable__control:checked~label.sk-toggleable__label {background-color: #d4ebff;}#sk-container-id-1 input.sk-hidden--visually {border: 0;clip: rect(1px 1px 1px 1px);clip: rect(1px, 1px, 1px, 1px);height: 1px;margin: -1px;overflow: hidden;padding: 0;position: absolute;width: 1px;}#sk-container-id-1 div.sk-estimator {font-family: monospace;background-color: #f0f8ff;border: 1px dotted black;border-radius: 0.25em;box-sizing: border-box;margin-bottom: 0.5em;}#sk-container-id-1 div.sk-estimator:hover {background-color: #d4ebff;}#sk-container-id-1 div.sk-parallel-item::after {content: \"\";width: 100%;border-bottom: 1px solid gray;flex-grow: 1;}#sk-container-id-1 div.sk-label:hover label.sk-toggleable__label {background-color: #d4ebff;}#sk-container-id-1 div.sk-serial::before {content: \"\";position: absolute;border-left: 1px solid gray;box-sizing: border-box;top: 0;bottom: 0;left: 50%;z-index: 0;}#sk-container-id-1 div.sk-serial {display: flex;flex-direction: column;align-items: center;background-color: white;padding-right: 0.2em;padding-left: 0.2em;position: relative;}#sk-container-id-1 div.sk-item {position: relative;z-index: 1;}#sk-container-id-1 div.sk-parallel {display: flex;align-items: stretch;justify-content: center;background-color: white;position: relative;}#sk-container-id-1 div.sk-item::before, #sk-container-id-1 div.sk-parallel-item::before {content: \"\";position: absolute;border-left: 1px solid gray;box-sizing: border-box;top: 0;bottom: 0;left: 50%;z-index: -1;}#sk-container-id-1 div.sk-parallel-item {display: flex;flex-direction: column;z-index: 1;position: relative;background-color: white;}#sk-container-id-1 div.sk-parallel-item:first-child::after {align-self: flex-end;width: 50%;}#sk-container-id-1 div.sk-parallel-item:last-child::after {align-self: flex-start;width: 50%;}#sk-container-id-1 div.sk-parallel-item:only-child::after {width: 0;}#sk-container-id-1 div.sk-dashed-wrapped {border: 1px dashed gray;margin: 0 0.4em 0.5em 0.4em;box-sizing: border-box;padding-bottom: 0.4em;background-color: white;}#sk-container-id-1 div.sk-label label {font-family: monospace;font-weight: bold;display: inline-block;line-height: 1.2em;}#sk-container-id-1 div.sk-label-container {text-align: center;}#sk-container-id-1 div.sk-container {/* jupyter's `normalize.less` sets `[hidden] { display: none; }` but bootstrap.min.css set `[hidden] { display: none !important; }` so we also need the `!important` here to be able to override the default hidden behavior on the sphinx rendered scikit-learn.org. See: https://github.com/scikit-learn/scikit-learn/issues/21755 */display: inline-block !important;position: relative;}#sk-container-id-1 div.sk-text-repr-fallback {display: none;}</style><div id=\"sk-container-id-1\" class=\"sk-top-container\"><div class=\"sk-text-repr-fallback\"><pre>LogisticRegression(random_state=RandomState(MT19937) at 0x2272E340F40)</pre><b>In a Jupyter environment, please rerun this cell to show the HTML representation or trust the notebook. <br />On GitHub, the HTML representation is unable to render, please try loading this page with nbviewer.org.</b></div><div class=\"sk-container\" hidden><div class=\"sk-item\"><div class=\"sk-estimator sk-toggleable\"><input class=\"sk-toggleable__control sk-hidden--visually\" id=\"sk-estimator-id-1\" type=\"checkbox\" checked><label for=\"sk-estimator-id-1\" class=\"sk-toggleable__label sk-toggleable__label-arrow\">LogisticRegression</label><div class=\"sk-toggleable__content\"><pre>LogisticRegression(random_state=RandomState(MT19937) at 0x2272E340F40)</pre></div></div></div></div></div>"
      ],
      "text/plain": [
       "LogisticRegression(random_state=RandomState(MT19937) at 0x2272E340F40)"
      ]
     },
     "execution_count": 28,
     "metadata": {},
     "output_type": "execute_result"
    }
   ],
   "source": [
    "from sklearn.linear_model import LogisticRegression\n",
    "# define lgositic regression model object\n",
    "log_reg = LogisticRegression(random_state=random_state)\n",
    "\n",
    "# fit the model to training data\n",
    "log_reg.fit(X_train_BOW, y_train)"
   ]
  },
  {
   "cell_type": "code",
   "execution_count": 29,
   "id": "9160b219",
   "metadata": {},
   "outputs": [],
   "source": [
    "from sklearn.metrics import ConfusionMatrixDisplay, confusion_matrix"
   ]
  },
  {
   "cell_type": "code",
   "execution_count": 30,
   "id": "ed1e71d6",
   "metadata": {},
   "outputs": [
    {
     "data": {
      "text/plain": [
       "pos    16234\n",
       "neg     3403\n",
       "Name: Label, dtype: int64"
      ]
     },
     "execution_count": 30,
     "metadata": {},
     "output_type": "execute_result"
    }
   ],
   "source": [
    "# identify most frequently occurring sentiment in the train data\n",
    "y_train.value_counts()"
   ]
  },
  {
   "cell_type": "code",
   "execution_count": 31,
   "id": "61ef4a13",
   "metadata": {},
   "outputs": [],
   "source": [
    "# assign 'Pos' to test data \n",
    "y_test_baseline_predictions = pd.Series(['pos']*len(y_test))"
   ]
  },
  {
   "cell_type": "markdown",
   "id": "aa7f8d6e",
   "metadata": {},
   "source": [
    "## Confusion matrix of Baseline Model"
   ]
  },
  {
   "cell_type": "code",
   "execution_count": 32,
   "id": "734360ff",
   "metadata": {
    "scrolled": true
   },
   "outputs": [
    {
     "data": {
      "image/png": "[encoded data removed]",
      "text/plain": [
       "<Figure size 640x480 with 2 Axes>"
      ]
     },
     "metadata": {},
     "output_type": "display_data"
    }
   ],
   "source": [
    "cm = confusion_matrix(y_test,y_test_baseline_predictions )\n",
    "display = ConfusionMatrixDisplay(confusion_matrix=cm, display_labels=log_reg.classes_)\n",
    "display.plot();"
   ]
  },
  {
   "cell_type": "markdown",
   "id": "3e241af2",
   "metadata": {},
   "source": [
    "Let's interpret the baseline confusion matrix and derieve some useful metrics. Here,\n",
    "* Model correctly identified 0 negative sentiment tweets as negative. (True Negative - TN)\n",
    "* Model correctly identified 6994 positive sentiment tweets as positive. (True Positive - TP)\n",
    "* Model incorrectly identified 0 positive sentiment tweets as negative. (False Negative - FN)\n",
    "* Model incorrectly identified 1423 negative sentiment tweets as positive. (False Positive - FP)"
   ]
  },
  {
   "cell_type": "markdown",
   "id": "48da3122",
   "metadata": {},
   "source": [
    "## 3.3 logisticregression"
   ]
  },
  {
   "cell_type": "code",
   "execution_count": 33,
   "id": "9297fb74",
   "metadata": {},
   "outputs": [
    {
     "data": {
      "text/plain": [
       "array(['pos', 'pos', 'pos', ..., 'pos', 'neg', 'pos'], dtype=object)"
      ]
     },
     "execution_count": 33,
     "metadata": {},
     "output_type": "execute_result"
    }
   ],
   "source": [
    "# make prediction on test data\n",
    "\n",
    "# create BOW for test data\n",
    "X_test_BOW = vectorizer.transform(X_test)\n",
    "\n",
    "# predict using log_reg object\n",
    "y_test_log_reg_predictions = log_reg.predict(X_test_BOW)\n",
    "\n",
    "# view the predictions\n",
    "y_test_log_reg_predictions"
   ]
  },
  {
   "cell_type": "markdown",
   "id": "97d4eff6",
   "metadata": {},
   "source": [
    "## Confusion matrix Logistic regression"
   ]
  },
  {
   "cell_type": "code",
   "execution_count": 34,
   "id": "5c26f309",
   "metadata": {
    "scrolled": true
   },
   "outputs": [
    {
     "data": {
      "image/png": "[encoded data removed]",
      "text/plain": [
       "<Figure size 640x480 with 2 Axes>"
      ]
     },
     "metadata": {},
     "output_type": "display_data"
    }
   ],
   "source": [
    "cm = confusion_matrix(y_test, y_test_log_reg_predictions)\n",
    "display = ConfusionMatrixDisplay(confusion_matrix=cm, display_labels=log_reg.classes_)\n",
    "display.plot();"
   ]
  },
  {
   "cell_type": "markdown",
   "id": "92135378",
   "metadata": {},
   "source": [
    "Let's interpret the logisticregression confusion matrix and derieve some useful metrics. Here,\n",
    "* Model correctly identified 777 negative sentiment tweets as negative. (True Negative - TN)\n",
    "* Model correctly identified 6689 positive sentiment tweets as positive. (True Positive - TP)\n",
    "* Model incorrectly identified 305 positive sentiment tweets as negative. (False Negative - FN)\n",
    "* Model incorrectly identified 646 negative sentiment tweets as positive. (False Positive - FP)"
   ]
  },
  {
   "cell_type": "markdown",
   "id": "7f3e2e71",
   "metadata": {},
   "source": [
    "### Summary\n",
    "\n",
    "1) Split the data into training and test set. </br>\n",
    "2) Change the text to numerical using BOW to let the logistic regression model read the \"text\" numerically </br>\n",
    "3) Let the model learn using the training set first then test it aftewards using the test set"
   ]
  },
  {
   "cell_type": "code",
   "execution_count": 35,
   "id": "a81d6d5f",
   "metadata": {},
   "outputs": [
    {
     "name": "stdout",
     "output_type": "stream",
     "text": [
      "Classification Report:\n",
      "               precision    recall  f1-score   support\n",
      "\n",
      "         neg       0.72      0.55      0.62      1423\n",
      "         pos       0.91      0.96      0.93      6994\n",
      "\n",
      "    accuracy                           0.89      8417\n",
      "   macro avg       0.82      0.75      0.78      8417\n",
      "weighted avg       0.88      0.89      0.88      8417\n",
      "\n"
     ]
    }
   ],
   "source": [
    "report = classification_report(y_test, y_test_log_reg_predictions, target_names=log_reg.classes_)\n",
    "print(\"Classification Report:\\n\", report)"
   ]
  },
  {
   "cell_type": "markdown",
   "id": "7af78118",
   "metadata": {},
   "source": [
    "# 4. Model Evaluation"
   ]
  },
  {
   "cell_type": "code",
   "execution_count": 36,
   "id": "5180322e",
   "metadata": {},
   "outputs": [],
   "source": [
    "from sklearn.metrics import accuracy_score\n",
    "from sklearn.metrics import f1_score"
   ]
  },
  {
   "cell_type": "markdown",
   "id": "486d3b04",
   "metadata": {},
   "source": [
    "## 4.1 Baseline model evaluation"
   ]
  },
  {
   "cell_type": "markdown",
   "id": "6e5f73e6",
   "metadata": {},
   "source": [
    "### Accuracy "
   ]
  },
  {
   "cell_type": "code",
   "execution_count": 37,
   "id": "714a2849",
   "metadata": {},
   "outputs": [
    {
     "data": {
      "text/plain": [
       "0.8309373886182726"
      ]
     },
     "execution_count": 37,
     "metadata": {},
     "output_type": "execute_result"
    }
   ],
   "source": [
    "accuracy_score(y_test, y_test_baseline_predictions)"
   ]
  },
  {
   "cell_type": "markdown",
   "id": "ee22e717",
   "metadata": {},
   "source": [
    "### Precision "
   ]
  },
  {
   "cell_type": "markdown",
   "id": "469a0094",
   "metadata": {},
   "source": [
    "Precison = TN/(TN+FN) </br>\n",
    "Precison = 0.0/(0.0+0.0) = 0.0"
   ]
  },
  {
   "cell_type": "markdown",
   "id": "1f5e99d8",
   "metadata": {},
   "source": [
    "### Recall"
   ]
  },
  {
   "cell_type": "code",
   "execution_count": 38,
   "id": "5dd0a730",
   "metadata": {},
   "outputs": [
    {
     "data": {
      "text/plain": [
       "0.0"
      ]
     },
     "execution_count": 38,
     "metadata": {},
     "output_type": "execute_result"
    }
   ],
   "source": [
    "# Recall = TN/(TN+FP)\n",
    "0/(0+1423)"
   ]
  },
  {
   "cell_type": "markdown",
   "id": "978280b1",
   "metadata": {},
   "source": [
    "### F1-Score"
   ]
  },
  {
   "cell_type": "code",
   "execution_count": 39,
   "id": "9d83ae17",
   "metadata": {},
   "outputs": [
    {
     "data": {
      "text/plain": [
       "0.9076633573421582"
      ]
     },
     "execution_count": 39,
     "metadata": {},
     "output_type": "execute_result"
    }
   ],
   "source": [
    "# Baseline model F1-score for positive \n",
    "f1_score(y_test, y_test_baseline_predictions, pos_label='pos')"
   ]
  },
  {
   "cell_type": "code",
   "execution_count": 40,
   "id": "b99d78cd",
   "metadata": {},
   "outputs": [
    {
     "data": {
      "text/plain": [
       "0.0"
      ]
     },
     "execution_count": 40,
     "metadata": {},
     "output_type": "execute_result"
    }
   ],
   "source": [
    "# Baseline model F1-score for negative\n",
    "f1_score(y_test, y_test_baseline_predictions, pos_label='neg')"
   ]
  },
  {
   "cell_type": "markdown",
   "id": "8bab15b2",
   "metadata": {},
   "source": [
    "formular:\n",
    "F1 = 2 * (precision * recall) / (precision + recall) </br>\n",
    "\n",
    "2 * (0 * 0.0) / (0 + 0.0) = 0.0"
   ]
  },
  {
   "cell_type": "markdown",
   "id": "63e53da4",
   "metadata": {},
   "source": [
    "### Result\n",
    "Baseline: {‘accuracy’:0.8309373886182726, ‘precision’:0.0, ’recall’:0.0, ‘f1-score’:0.0}"
   ]
  },
  {
   "cell_type": "markdown",
   "id": "5bc687e7",
   "metadata": {},
   "source": [
    "**Explain the cause of difference between the accuracy and the f1 \n",
    "score of the negative class for the baseline model.** \n",
    "\n",
    "The cause of the different is because the accuracy takes both the positive and negative results while the f1-score only takes the negative results which is 0 as the baseline is set to all positive and the precision,recall are 0.0."
   ]
  },
  {
   "cell_type": "markdown",
   "id": "c3958047",
   "metadata": {},
   "source": [
    "## 4.2 logisticregression Evaluation"
   ]
  },
  {
   "cell_type": "markdown",
   "id": "f752ac66",
   "metadata": {},
   "source": [
    "### Accuracy "
   ]
  },
  {
   "cell_type": "code",
   "execution_count": 41,
   "id": "55298f73",
   "metadata": {},
   "outputs": [
    {
     "data": {
      "text/plain": [
       "0.8870143756682903"
      ]
     },
     "execution_count": 41,
     "metadata": {},
     "output_type": "execute_result"
    }
   ],
   "source": [
    "accuracy_score(y_test, y_test_log_reg_predictions)"
   ]
  },
  {
   "cell_type": "code",
   "execution_count": 42,
   "id": "5207d7fa",
   "metadata": {},
   "outputs": [
    {
     "data": {
      "text/plain": [
       "0.8816523887836935"
      ]
     },
     "execution_count": 42,
     "metadata": {},
     "output_type": "execute_result"
    }
   ],
   "source": [
    "from sklearn.model_selection import cross_val_score\n",
    "\n",
    "# find accuracy of model using 3-fold cross validation\n",
    "cross_val_score(LogisticRegression(), X_train_BOW, y_train, cv=5).mean()"
   ]
  },
  {
   "cell_type": "markdown",
   "id": "d62e9f26",
   "metadata": {},
   "source": [
    "### Precision"
   ]
  },
  {
   "cell_type": "code",
   "execution_count": 43,
   "id": "73db71ab",
   "metadata": {},
   "outputs": [
    {
     "data": {
      "text/plain": [
       "0.7181146025878004"
      ]
     },
     "execution_count": 43,
     "metadata": {},
     "output_type": "execute_result"
    }
   ],
   "source": [
    "# Precison = TN/(TN+FN)\n",
    "777/(777+305)"
   ]
  },
  {
   "cell_type": "markdown",
   "id": "a5f4711c",
   "metadata": {},
   "source": [
    "### Recall"
   ]
  },
  {
   "cell_type": "code",
   "execution_count": 44,
   "id": "86f3617f",
   "metadata": {},
   "outputs": [
    {
     "data": {
      "text/plain": [
       "0.5460295151089248"
      ]
     },
     "execution_count": 44,
     "metadata": {},
     "output_type": "execute_result"
    }
   ],
   "source": [
    "# Recall = TN/(TN+FP)\n",
    "777/(777+646)"
   ]
  },
  {
   "cell_type": "markdown",
   "id": "ce3e3f6f",
   "metadata": {},
   "source": [
    "### F1-Score"
   ]
  },
  {
   "cell_type": "code",
   "execution_count": 45,
   "id": "4efab088",
   "metadata": {},
   "outputs": [
    {
     "data": {
      "text/plain": [
       "0.9336310977737456"
      ]
     },
     "execution_count": 45,
     "metadata": {},
     "output_type": "execute_result"
    }
   ],
   "source": [
    "f1_score(y_test, y_test_log_reg_predictions, pos_label='pos')"
   ]
  },
  {
   "cell_type": "code",
   "execution_count": 46,
   "id": "c0283bdb",
   "metadata": {},
   "outputs": [
    {
     "data": {
      "text/plain": [
       "0.6203592814371258"
      ]
     },
     "execution_count": 46,
     "metadata": {},
     "output_type": "execute_result"
    }
   ],
   "source": [
    "f1_score(y_test, y_test_log_reg_predictions, pos_label='neg')"
   ]
  },
  {
   "cell_type": "code",
   "execution_count": 47,
   "id": "89da6ab6",
   "metadata": {},
   "outputs": [
    {
     "data": {
      "text/plain": [
       "0.6203592814371258"
      ]
     },
     "execution_count": 47,
     "metadata": {},
     "output_type": "execute_result"
    }
   ],
   "source": [
    "#F1 = 2 * (precision * recall) / (precision + recall)\n",
    "\n",
    "2 * ( 0.7181146025878004 * 0.5460295151089248) / ( 0.7181146025878004 + 0.5460295151089248 )"
   ]
  },
  {
   "cell_type": "markdown",
   "id": "7419ca83",
   "metadata": {},
   "source": [
    "\n",
    "### Result\n",
    "Logisticregression: {‘accuracy’:0.8870143756682903, ‘precision’:0.7181146025878004, ’recall’:0.5460295151089248 , ‘f1-score’:0.6203592814371258}"
   ]
  },
  {
   "cell_type": "markdown",
   "id": "c2e4b177",
   "metadata": {},
   "source": [
    "## Comparing Logistic regression model and baseline model\n",
    "\n",
    "\n",
    "From the calculations above , the logistic regression model is more accurate with 88%, comparing to baseline model with 83%. \n",
    "\n",
    "Hence the logistic regression model is better to be used for prediction\n"
   ]
  },
  {
   "cell_type": "markdown",
   "id": "21b389c0",
   "metadata": {},
   "source": [
    "# 5. Prediction using model"
   ]
  },
  {
   "cell_type": "code",
   "execution_count": 48,
   "id": "db51cd4d",
   "metadata": {},
   "outputs": [
    {
     "data": {
      "text/html": [
       "<div>\n",
       "<style scoped>\n",
       "    .dataframe tbody tr th:only-of-type {\n",
       "        vertical-align: middle;\n",
       "    }\n",
       "\n",
       "    .dataframe tbody tr th {\n",
       "        vertical-align: top;\n",
       "    }\n",
       "\n",
       "    .dataframe thead th {\n",
       "        text-align: right;\n",
       "    }\n",
       "</style>\n",
       "<table border=\"1\" class=\"dataframe\">\n",
       "  <thead>\n",
       "    <tr style=\"text-align: right;\">\n",
       "      <th></th>\n",
       "      <th>Id</th>\n",
       "      <th>Text</th>\n",
       "    </tr>\n",
       "  </thead>\n",
       "  <tbody>\n",
       "    <tr>\n",
       "      <th>0</th>\n",
       "      <td>1</td>\n",
       "      <td>The candy is tasty, but they totally scam you ...</td>\n",
       "    </tr>\n",
       "    <tr>\n",
       "      <th>1</th>\n",
       "      <td>2</td>\n",
       "      <td>I had been looking for the violet candy with t...</td>\n",
       "    </tr>\n",
       "    <tr>\n",
       "      <th>2</th>\n",
       "      <td>3</td>\n",
       "      <td>these are very pricey so i only enjoy them now...</td>\n",
       "    </tr>\n",
       "    <tr>\n",
       "      <th>3</th>\n",
       "      <td>4</td>\n",
       "      <td>These candies have a mild flavor, when compare...</td>\n",
       "    </tr>\n",
       "    <tr>\n",
       "      <th>4</th>\n",
       "      <td>5</td>\n",
       "      <td>This product is a bit pricey for the amt. rece...</td>\n",
       "    </tr>\n",
       "  </tbody>\n",
       "</table>\n",
       "</div>"
      ],
      "text/plain": [
       "   Id                                               Text\n",
       "0   1  The candy is tasty, but they totally scam you ...\n",
       "1   2  I had been looking for the violet candy with t...\n",
       "2   3  these are very pricey so i only enjoy them now...\n",
       "3   4  These candies have a mild flavor, when compare...\n",
       "4   5  This product is a bit pricey for the amt. rece..."
      ]
     },
     "execution_count": 48,
     "metadata": {},
     "output_type": "execute_result"
    }
   ],
   "source": [
    "data2 = pd.read_csv(filepath_or_buffer =\"predictdata.csv\")\n",
    "data2.head()"
   ]
  },
  {
   "cell_type": "code",
   "execution_count": 49,
   "id": "5db411fa",
   "metadata": {},
   "outputs": [],
   "source": [
    "#apply the cleaning to the dataset\n",
    "data2[\"Text\"] = data2[\"Text\"].apply(clean_data)"
   ]
  },
  {
   "cell_type": "code",
   "execution_count": 50,
   "id": "535da7e6",
   "metadata": {},
   "outputs": [
    {
     "data": {
      "text/plain": [
       "array(['pos', 'pos', 'pos', 'pos', 'neg'], dtype=object)"
      ]
     },
     "execution_count": 50,
     "metadata": {},
     "output_type": "execute_result"
    }
   ],
   "source": [
    "Z = data2[\"Text\"]\n",
    "Z_test_BOW = vectorizer.transform(Z)\n",
    "\n",
    "# predict using log_reg object\n",
    "y_test_log_reg_predictions = log_reg.predict(Z_test_BOW)\n",
    "\n",
    "# view the predictions\n",
    "y_test_log_reg_predictions"
   ]
  },
  {
   "cell_type": "code",
   "execution_count": 51,
   "id": "15e04d5a",
   "metadata": {},
   "outputs": [
    {
     "data": {
      "text/html": [
       "<div>\n",
       "<style scoped>\n",
       "    .dataframe tbody tr th:only-of-type {\n",
       "        vertical-align: middle;\n",
       "    }\n",
       "\n",
       "    .dataframe tbody tr th {\n",
       "        vertical-align: top;\n",
       "    }\n",
       "\n",
       "    .dataframe thead th {\n",
       "        text-align: right;\n",
       "    }\n",
       "</style>\n",
       "<table border=\"1\" class=\"dataframe\">\n",
       "  <thead>\n",
       "    <tr style=\"text-align: right;\">\n",
       "      <th></th>\n",
       "      <th>Id</th>\n",
       "      <th>Text</th>\n",
       "      <th>Model_Prediction</th>\n",
       "    </tr>\n",
       "  </thead>\n",
       "  <tbody>\n",
       "    <tr>\n",
       "      <th>0</th>\n",
       "      <td>1</td>\n",
       "      <td>the candy is tasty but they totally scam you o...</td>\n",
       "      <td>pos</td>\n",
       "    </tr>\n",
       "    <tr>\n",
       "      <th>1</th>\n",
       "      <td>2</td>\n",
       "      <td>i had been looking for the violet candy with t...</td>\n",
       "      <td>pos</td>\n",
       "    </tr>\n",
       "    <tr>\n",
       "      <th>2</th>\n",
       "      <td>3</td>\n",
       "      <td>these are very pricey so i only enjoy them now...</td>\n",
       "      <td>pos</td>\n",
       "    </tr>\n",
       "    <tr>\n",
       "      <th>3</th>\n",
       "      <td>4</td>\n",
       "      <td>these candies have a mild flavor when compared...</td>\n",
       "      <td>pos</td>\n",
       "    </tr>\n",
       "    <tr>\n",
       "      <th>4</th>\n",
       "      <td>5</td>\n",
       "      <td>this product is a bit pricey for the amt recei...</td>\n",
       "      <td>neg</td>\n",
       "    </tr>\n",
       "  </tbody>\n",
       "</table>\n",
       "</div>"
      ],
      "text/plain": [
       "   Id                                               Text Model_Prediction\n",
       "0   1  the candy is tasty but they totally scam you o...              pos\n",
       "1   2  i had been looking for the violet candy with t...              pos\n",
       "2   3  these are very pricey so i only enjoy them now...              pos\n",
       "3   4  these candies have a mild flavor when compared...              pos\n",
       "4   5  this product is a bit pricey for the amt recei...              neg"
      ]
     },
     "execution_count": 51,
     "metadata": {},
     "output_type": "execute_result"
    }
   ],
   "source": [
    "#Create a new column for model predictions\n",
    "data2['Model_Prediction'] = y_test_log_reg_predictions\n",
    "\n",
    "#Show the dataframe of data2\n",
    "data2"
   ]
  },
  {
   "cell_type": "markdown",
   "id": "4f713162",
   "metadata": {},
   "source": [
    "# 6. Frequent Words"
   ]
  },
  {
   "cell_type": "code",
   "execution_count": 52,
   "id": "191c49c9",
   "metadata": {},
   "outputs": [],
   "source": [
    "from wordcloud import WordCloud\n",
    "from matplotlib import pyplot as plt\n",
    "from sklearn.feature_extraction.text import CountVectorizer"
   ]
  },
  {
   "cell_type": "code",
   "execution_count": 53,
   "id": "ce8d032f",
   "metadata": {},
   "outputs": [
    {
     "data": {
      "image/png": "[encoded data removed]",
      "text/plain": [
       "<Figure size 640x480 with 1 Axes>"
      ]
     },
     "metadata": {},
     "output_type": "display_data"
    }
   ],
   "source": [
    "text = \" \".join(X_train)\n",
    "word_cloud = WordCloud(stopwords=set(stop_words)).generate(text)\n",
    "plt.imshow(word_cloud, interpolation='bilinear');"
   ]
  },
  {
   "cell_type": "code",
   "execution_count": 54,
   "id": "3341f7e9",
   "metadata": {},
   "outputs": [],
   "source": [
    "# function adapted from https://aneesha.medium.com/visualising-top-features-in-linear-svm-with-scikit-learn-and-matplotlib-3454ab18a14d\n",
    "def plot_coefficients(classifier, feature_names, top_features=10):\n",
    "    coef = classifier.coef_.ravel()\n",
    "    top_positive_coefficients = np.argsort(coef)[-top_features:]\n",
    "    top_negative_coefficients = np.argsort(coef)[:top_features]\n",
    "    top_coefficients = np.hstack([top_negative_coefficients, top_positive_coefficients])\n",
    "    # create plot\n",
    "    plt.figure(figsize=(15, 5))\n",
    "    colors = ['red' if c < 0 else 'blue' for c in coef[top_coefficients]]\n",
    "    plt.bar(np.arange(2 * top_features), coef[top_coefficients], color=colors)\n",
    "    feature_names = np.array(feature_names)\n",
    "    plt.xticks(np.arange(0, 2 * top_features), feature_names[top_coefficients], rotation=90, ha='right')\n",
    "    plt.xlabel(\"Important Words\")\n",
    "    plt.ylabel(\"Model Coefficient\")\n",
    "    plt.title(\"Important words with their model coefficient\")\n",
    "    plt.show()    "
   ]
  },
  {
   "cell_type": "code",
   "execution_count": 55,
   "id": "80bac01b",
   "metadata": {
    "scrolled": true
   },
   "outputs": [
    {
     "data": {
      "image/png": "[encoded data removed]",
      "text/plain": [
       "<Figure size 1500x500 with 1 Axes>"
      ]
     },
     "metadata": {},
     "output_type": "display_data"
    }
   ],
   "source": [
    "plot_coefficients(log_reg, vectorizer.get_feature_names_out())"
   ]
  },
  {
   "cell_type": "markdown",
   "id": "441341ca",
   "metadata": {},
   "source": [
    "Looking at the plot, the words cofficient with the red graph are words that are used to predict negative while blue is positive. Some example of the negative words are 'disappointed', 'wasted', 'unfortunately'and some positive words are 'awesome', 'excellent', 'perfect'."
   ]
  },
  {
   "cell_type": "markdown",
   "id": "f5a95be4",
   "metadata": {},
   "source": [
    "# 7. Unbalanced data"
   ]
  },
  {
   "cell_type": "markdown",
   "id": "f87cd867",
   "metadata": {},
   "source": [
    "An issue with unbalance data/ imbalanced classification is that it causes inaccuracy in the prediction/result due to highly unequal distribution of classes. A better way to handle the data is to either use \"Under Sample\" or \"Oversample\" technique where the 2 factors have the same amount. Example , having the same number of \"pos\" and \"neg\" to have equal distribution."
   ]
  }
 ],
 "metadata": {
  "kernelspec": {
   "display_name": "Python 3 (ipykernel)",
   "language": "python",
   "name": "python3"
  },
  "language_info": {
   "codemirror_mode": {
    "name": "ipython",
    "version": 3
   },
   "file_extension": ".py",
   "mimetype": "text/x-python",
   "name": "python",
   "nbconvert_exporter": "python",
   "pygments_lexer": "ipython3",
   "version": "3.10.8"
  }
 },
 "nbformat": 4,
 "nbformat_minor": 5
}
